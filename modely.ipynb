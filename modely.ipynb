{
  "nbformat": 4,
  "nbformat_minor": 0,
  "metadata": {
    "colab": {
      "provenance": [],
      "mount_file_id": "176azP_ZymfLujPuZrHi-sq15rmz_sD6s",
      "authorship_tag": "ABX9TyMmOMAIEa8wJdLEXpGCWWrS",
      "include_colab_link": true
    },
    "kernelspec": {
      "name": "python3",
      "display_name": "Python 3"
    },
    "language_info": {
      "name": "python"
    }
  },
  "cells": [
    {
      "cell_type": "markdown",
      "metadata": {
        "id": "view-in-github",
        "colab_type": "text"
      },
      "source": [
        "<a href=\"https://colab.research.google.com/github/ricquesnguyen/botnet-detection/blob/main/modely.ipynb\" target=\"_parent\"><img src=\"https://colab.research.google.com/assets/colab-badge.svg\" alt=\"Open In Colab\"/></a>"
      ]
    },
    {
      "cell_type": "code",
      "execution_count": null,
      "metadata": {
        "id": "KxsAeAqwROwz"
      },
      "outputs": [],
      "source": [
        "import pandas as pd\n",
        "import numpy as np\n",
        "import keras\n",
        "from sklearn.model_selection import train_test_split\n",
        "from sklearn.preprocessing import StandardScaler\n",
        "from tensorflow.keras.models import Sequential\n",
        "from tensorflow.keras.layers import Dense\n"
      ]
    },
    {
      "cell_type": "code",
      "source": [
        "from google.colab import drive\n",
        "drive.mount('/content/drive')"
      ],
      "metadata": {
        "colab": {
          "base_uri": "https://localhost:8080/"
        },
        "id": "wrfIDCHf2dv1",
        "outputId": "0a118714-201a-4e94-fa37-ce71e448b6b2"
      },
      "execution_count": null,
      "outputs": [
        {
          "output_type": "stream",
          "name": "stdout",
          "text": [
            "Drive already mounted at /content/drive; to attempt to forcibly remount, call drive.mount(\"/content/drive\", force_remount=True).\n"
          ]
        }
      ]
    },
    {
      "cell_type": "code",
      "source": [
        "path=\"/content/drive/MyDrive/data/UDPLag.csv\"\n",
        "#csv reader here instead of pandas\n",
        "#later on take equal # of data from each csv to train\n",
        "df = pd.read_csv(path)\n",
        "df.head()\n",
        "df.drop(\"Flow Bytes/s\", axis=1, inplace=True)"
      ],
      "metadata": {
        "colab": {
          "base_uri": "https://localhost:8080/"
        },
        "id": "UO-YmMsrEnFY",
        "outputId": "4f2bb492-2cf9-4e99-b460-c753b4f3be5b"
      },
      "execution_count": null,
      "outputs": [
        {
          "output_type": "stream",
          "name": "stderr",
          "text": [
            "<ipython-input-15-f96290c95e2e>:2: DtypeWarning: Columns (85) have mixed types. Specify dtype option on import or set low_memory=False.\n",
            "  df = pd.read_csv(path)\n"
          ]
        }
      ]
    },
    {
      "cell_type": "code",
      "source": [
        "#pd.set_option('display.max_rows', None)\n",
        "df.isnull().any()"
      ],
      "metadata": {
        "colab": {
          "base_uri": "https://localhost:8080/"
        },
        "id": "tl4Zar1u31eR",
        "outputId": "8e9f6f23-b54e-4748-a9e3-07ca6812e900"
      },
      "execution_count": null,
      "outputs": [
        {
          "output_type": "execute_result",
          "data": {
            "text/plain": [
              "Unnamed: 0         False\n",
              "Flow ID            False\n",
              " Source IP         False\n",
              " Source Port       False\n",
              " Destination IP    False\n",
              "                   ...  \n",
              " Idle Max          False\n",
              " Idle Min          False\n",
              "SimillarHTTP       False\n",
              " Inbound           False\n",
              " Label             False\n",
              "Length: 87, dtype: bool"
            ]
          },
          "metadata": {},
          "execution_count": 16
        }
      ]
    },
    {
      "cell_type": "code",
      "source": [
        "x = df.iloc[:,8:10].values\n",
        "y = df.iloc[:,10].values\n",
        "x = np.asarray(x)\n",
        "y = np.asarray(y)"
      ],
      "metadata": {
        "id": "wq6XpgCuvUWf"
      },
      "execution_count": null,
      "outputs": []
    },
    {
      "cell_type": "code",
      "source": [
        "print(x)"
      ],
      "metadata": {
        "colab": {
          "base_uri": "https://localhost:8080/"
        },
        "id": "WpSA0GGp04Oy",
        "outputId": "080b1577-9b15-4bcc-b2e7-72720c1970f4"
      },
      "execution_count": null,
      "outputs": [
        {
          "output_type": "stream",
          "name": "stdout",
          "text": [
            "[[  1   2]\n",
            " [  1   2]\n",
            " [  2   2]\n",
            " ...\n",
            " [  2   2]\n",
            " [  0   2]\n",
            " [134   2]]\n"
          ]
        }
      ]
    },
    {
      "cell_type": "code",
      "source": [
        "x_train, x_test, y_train, y_test = train_test_split(x,y,test_size = 0.2, random_state = 0)"
      ],
      "metadata": {
        "id": "1wKzUGv9yZIz"
      },
      "execution_count": null,
      "outputs": []
    },
    {
      "cell_type": "code",
      "source": [
        "sc = StandardScaler()"
      ],
      "metadata": {
        "id": "eKpM5fxCyvL6"
      },
      "execution_count": null,
      "outputs": []
    },
    {
      "cell_type": "code",
      "source": [
        "df = df.reset_index()\n",
        "x_train = sc.fit_transform(x_train)\n",
        "x_test = sc.transform(x_test)"
      ],
      "metadata": {
        "id": "UaC2fWiOzIJ4"
      },
      "execution_count": null,
      "outputs": []
    },
    {
      "cell_type": "code",
      "source": [
        "bclfr = Sequential ()\n",
        "\n",
        "bclfr.add(Dense(units = 2, kernel_initializer = 'uniform', activation = 'relu', input_dim = len(x_test[1])))\n",
        "\n",
        "bclfr.add(Dense(units = 2, kernel_initializer = 'uniform', activation = 'relu'))\n",
        "\n",
        "bclfr.add(Dense(units = 1, kernel_initializer = 'uniform', activation = 'sigmoid'))\n",
        "\n",
        "bclfr.compile(optimizer = 'adam' , loss = 'binary_crossentropy',metrics = ['accuracy'])"
      ],
      "metadata": {
        "id": "rucPY_Lm2Weo"
      },
      "execution_count": null,
      "outputs": []
    },
    {
      "cell_type": "code",
      "source": [
        "bclfr.fit(x_train,y_train,batch_size = 10 , epochs = 10)\n",
        "\n",
        "y_pred = bclfr.predict(x_test)"
      ],
      "metadata": {
        "colab": {
          "base_uri": "https://localhost:8080/"
        },
        "id": "hsRWZyZM5WlF",
        "outputId": "419e116d-67cd-48c9-b75a-39baf378f016"
      },
      "execution_count": null,
      "outputs": [
        {
          "output_type": "stream",
          "name": "stdout",
          "text": [
            "Epoch 1/10\n",
            "29649/29649 [==============================] - 53s 2ms/step - loss: -0.3691 - accuracy: 0.7633\n",
            "Epoch 2/10\n",
            "29649/29649 [==============================] - 54s 2ms/step - loss: -5.3636 - accuracy: 0.7471\n",
            "Epoch 3/10\n",
            "29649/29649 [==============================] - 47s 2ms/step - loss: -15.9201 - accuracy: 0.7498\n",
            "Epoch 4/10\n",
            "29649/29649 [==============================] - 43s 1ms/step - loss: -35.8603 - accuracy: 0.7528\n",
            "Epoch 5/10\n",
            "29649/29649 [==============================] - 43s 1ms/step - loss: -64.7257 - accuracy: 0.7548\n",
            "Epoch 6/10\n",
            "29649/29649 [==============================] - 48s 2ms/step - loss: -127.4314 - accuracy: 0.7581\n",
            "Epoch 7/10\n",
            "29649/29649 [==============================] - 49s 2ms/step - loss: -242.1194 - accuracy: 0.7589\n",
            "Epoch 8/10\n",
            "29649/29649 [==============================] - 45s 2ms/step - loss: -349.0421 - accuracy: 0.7588\n",
            "Epoch 9/10\n",
            "29649/29649 [==============================] - 47s 2ms/step - loss: -474.6952 - accuracy: 0.7590\n",
            "Epoch 10/10\n",
            "29649/29649 [==============================] - 44s 1ms/step - loss: -737.6970 - accuracy: 0.7593\n",
            "2317/2317 [==============================] - 2s 966us/step\n"
          ]
        }
      ]
    }
  ]
}